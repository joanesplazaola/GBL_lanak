{
 "cells": [
  {
   "cell_type": "code",
   "execution_count": 1,
   "metadata": {
    "ExecuteTime": {
     "end_time": "2019-05-23T11:38:37.485313Z",
     "start_time": "2019-05-23T11:38:36.791410Z"
    }
   },
   "outputs": [],
   "source": [
    "import pandas as pd\n",
    "import numpy as np\n",
    "import matplotlib.pyplot as plt\n",
    "from glob import glob\n",
    "\n",
    "# Add library's path to notebook\n",
    "import os\n",
    "import sys\n",
    "sys.path.append('../../time-series-featurizer/')\n",
    "from ts_featurizer import TimeSeriesFeaturizer\n",
    "%matplotlib inline\n",
    "raw_files = glob('/media/joanes/0BB3-1FA1/CSV_DATA/*.csv')"
   ]
  },
  {
   "cell_type": "code",
   "execution_count": 2,
   "metadata": {
    "ExecuteTime": {
     "end_time": "2019-05-23T11:38:39.086490Z",
     "start_time": "2019-05-23T11:38:39.068864Z"
    }
   },
   "outputs": [],
   "source": [
    "\n",
    "def get_df_list_and_target(files):\n",
    "\t# Get only those values that are available before the analysis\n",
    "\tfilter_cols = ['Total_UnfilledZones', 'Total_FillingQuality', 'TOTAL_QUALITY', 'Total_PorosityQuantity',\n",
    "\t\t\t\t   'Total_PorosityQuality', 'Time']\n",
    "\tdf_list = list()\n",
    "\ttarget = list()\n",
    "\tfor file in files:\n",
    "\t\tdf = pd.read_csv(file)\n",
    "\t\ttarget.append(df.TOTAL_QUALITY.unique()[0])\n",
    "\t\tdf_filtered = df.drop(axis=1, columns=filter_cols)\n",
    "\t\tfilter_col = [col for col in df_filtered if\n",
    "\t\t\t\t\t  not col.endswith(('VoidContent', 'VoidQuality', 'Filling', 'FillingQuality'))]\n",
    "\t\tdf_filtered = df_filtered[filter_col]\n",
    "\t\tdf_list.append(df_filtered)\n",
    "\n",
    "\ttarget = pd.DataFrame(target, columns=['valid'])\n",
    "\treturn df_list, target\n",
    "\n"
   ]
  },
  {
   "cell_type": "code",
   "execution_count": 3,
   "metadata": {
    "ExecuteTime": {
     "end_time": "2019-05-23T11:38:40.177226Z",
     "start_time": "2019-05-23T11:38:40.151459Z"
    }
   },
   "outputs": [],
   "source": [
    "import peakutils\n",
    "from scipy.signal import savgol_filter\n",
    "\n",
    "\n",
    "def get_processed_df_list_and_target(raw_files, start, end):\n",
    "    df_ret = []\n",
    "    df_list, targets = get_df_list_and_target(raw_files[start:end])\n",
    "    for i, data in enumerate(df_list):\n",
    "        flow_rate_filtered = savgol_filter(data['Flow rate'].values, 51, 2)\n",
    "        flow_rate_deriv = np.diff(flow_rate_filtered) * -1\n",
    "        flow_rate = flow_rate_deriv[350:500]\n",
    "        np.place(flow_rate, flow_rate < 0, [0])\n",
    "        indexes = peakutils.indexes(flow_rate, thres=0.08, min_dist=10) + 350\n",
    "        flow_rate = flow_rate_deriv[550:]\n",
    "        np.place(flow_rate, flow_rate < 0, [0])\n",
    "        indexes2 = peakutils.indexes(flow_rate, thres=0.2, min_dist=10) + 550\n",
    "        df_ret.append(data[:indexes[0]])\n",
    "          \n",
    "\n",
    "    return df_ret, targets"
   ]
  },
  {
   "cell_type": "code",
   "execution_count": null,
   "metadata": {
    "ExecuteTime": {
     "start_time": "2019-05-23T11:21:40.224Z"
    },
    "scrolled": true
   },
   "outputs": [],
   "source": [
    "df_list, target_featurized = get_processed_df_list_and_target(raw_files, 3000, 3005)\n"
   ]
  },
  {
   "cell_type": "code",
   "execution_count": 5,
   "metadata": {
    "ExecuteTime": {
     "end_time": "2019-05-23T11:49:50.349757Z",
     "start_time": "2019-05-23T11:38:57.294235Z"
    },
    "scrolled": true
   },
   "outputs": [
    {
     "name": "stdout",
     "output_type": "stream",
     "text": [
      "Tseries loaded\n",
      "\n",
      "\n",
      "-------------------------------------------------- Modeling started --------------------------------------------------\n"
     ]
    },
    {
     "name": "stderr",
     "output_type": "stream",
     "text": [
      "  0%|          | 0/21 [00:00<?, ?it/s]/home/joanes/miniconda3/lib/python3.6/site-packages/statsmodels/regression/linear_model.py:846: RuntimeWarning: divide by zero encountered in log\n",
      "/home/joanes/miniconda3/lib/python3.6/site-packages/statsmodels/base/model.py:1100: RuntimeWarning: invalid value encountered in true_divide\n",
      "/home/joanes/miniconda3/lib/python3.6/site-packages/statsmodels/regression/linear_model.py:846: RuntimeWarning: divide by zero encountered in log\n",
      "/home/joanes/miniconda3/lib/python3.6/site-packages/statsmodels/base/model.py:1100: RuntimeWarning: invalid value encountered in true_divide\n",
      "/home/joanes/miniconda3/lib/python3.6/site-packages/statsmodels/regression/linear_model.py:846: RuntimeWarning: divide by zero encountered in log\n",
      "/home/joanes/miniconda3/lib/python3.6/site-packages/statsmodels/base/model.py:1100: RuntimeWarning: invalid value encountered in true_divide\n",
      "  5%|▍         | 1/21 [03:41<1:13:48, 221.41s/it]/home/joanes/miniconda3/lib/python3.6/site-packages/statsmodels/regression/linear_model.py:846: RuntimeWarning: divide by zero encountered in log\n",
      "/home/joanes/miniconda3/lib/python3.6/site-packages/statsmodels/base/model.py:1100: RuntimeWarning: invalid value encountered in true_divide\n",
      "/home/joanes/miniconda3/lib/python3.6/site-packages/statsmodels/regression/linear_model.py:846: RuntimeWarning: divide by zero encountered in log\n",
      "/home/joanes/miniconda3/lib/python3.6/site-packages/statsmodels/base/model.py:1100: RuntimeWarning: invalid value encountered in true_divide\n",
      " 67%|██████▋   | 14/21 [08:22<05:59, 51.33s/it]  /home/joanes/miniconda3/lib/python3.6/site-packages/statsmodels/regression/linear_model.py:846: RuntimeWarning: divide by zero encountered in log\n",
      "/home/joanes/miniconda3/lib/python3.6/site-packages/statsmodels/base/model.py:1100: RuntimeWarning: invalid value encountered in true_divide\n",
      "/home/joanes/miniconda3/lib/python3.6/site-packages/statsmodels/regression/linear_model.py:846: RuntimeWarning: divide by zero encountered in log\n",
      " 71%|███████▏  | 15/21 [09:41<05:57, 59.60s/it]/home/joanes/miniconda3/lib/python3.6/site-packages/statsmodels/base/model.py:1100: RuntimeWarning: invalid value encountered in true_divide\n",
      "/home/joanes/miniconda3/lib/python3.6/site-packages/statsmodels/regression/linear_model.py:846: RuntimeWarning: divide by zero encountered in log\n",
      "/home/joanes/miniconda3/lib/python3.6/site-packages/statsmodels/base/model.py:1100: RuntimeWarning: invalid value encountered in true_divide\n",
      "100%|██████████| 21/21 [10:36<00:00, 30.30s/it]\n",
      "../../time-series-featurizer/ts_featurizer/base/base.py:152: UserWarning: NaN values have been found while Modeling, check na_cols attribute to know which columns have NaNs.\n"
     ]
    }
   ],
   "source": [
    "\n",
    "df_list, target_featurized = get_processed_df_list_and_target(raw_files, 0,200)\n",
    "print('Tseries loaded')\n",
    "\n",
    "\n",
    "tseries = TimeSeriesFeaturizer(check_na=False)\n",
    "model = tseries.featurize(df_list, n_jobs=7)\n"
   ]
  },
  {
   "cell_type": "code",
   "execution_count": 6,
   "metadata": {
    "ExecuteTime": {
     "end_time": "2019-05-23T11:49:54.276661Z",
     "start_time": "2019-05-23T11:49:54.238077Z"
    }
   },
   "outputs": [],
   "source": [
    "\n",
    "import pickle\n",
    "\n",
    "filehandler = open('tmp/first_fold/tseries.pickle', 'wb')\n",
    "pickle.dump(tseries, filehandler)\n"
   ]
  },
  {
   "cell_type": "code",
   "execution_count": 7,
   "metadata": {
    "ExecuteTime": {
     "end_time": "2019-05-23T11:49:58.028256Z",
     "start_time": "2019-05-23T11:49:57.985769Z"
    }
   },
   "outputs": [],
   "source": [
    "import pickle\n",
    "with open('tmp/first_fold/tseries.pickle', 'rb') as filehandler:\n",
    "\ttseries = pickle.load(filehandler)\n"
   ]
  },
  {
   "cell_type": "code",
   "execution_count": 12,
   "metadata": {
    "ExecuteTime": {
     "end_time": "2019-05-23T16:35:19.819659Z",
     "start_time": "2019-05-23T16:10:45.024254Z"
    }
   },
   "outputs": [
    {
     "name": "stdout",
     "output_type": "stream",
     "text": [
      "Loaded DataFrame lists len is 1000, from 9000 to 10000\n",
      "\n",
      "\n",
      "-------------------------------------------------- Applying the model started --------------------------------------------------\n"
     ]
    },
    {
     "name": "stderr",
     "output_type": "stream",
     "text": [
      "  0%|          | 0/21 [00:00<?, ?it/s]/home/joanes/miniconda3/lib/python3.6/site-packages/statsmodels/regression/linear_model.py:846: RuntimeWarning: divide by zero encountered in log\n",
      "/home/joanes/miniconda3/lib/python3.6/site-packages/statsmodels/base/model.py:1100: RuntimeWarning: invalid value encountered in true_divide\n",
      "  5%|▍         | 1/21 [05:27<1:49:18, 327.93s/it]/home/joanes/miniconda3/lib/python3.6/site-packages/statsmodels/regression/linear_model.py:846: RuntimeWarning: divide by zero encountered in log\n",
      "/home/joanes/miniconda3/lib/python3.6/site-packages/statsmodels/base/model.py:1100: RuntimeWarning: invalid value encountered in true_divide\n",
      " 19%|█▉        | 4/21 [06:05<33:34, 118.50s/it]  /home/joanes/miniconda3/lib/python3.6/site-packages/statsmodels/regression/linear_model.py:846: RuntimeWarning: divide by zero encountered in log\n",
      "/home/joanes/miniconda3/lib/python3.6/site-packages/statsmodels/base/model.py:1100: RuntimeWarning: invalid value encountered in true_divide\n",
      " 38%|███▊      | 8/21 [11:19<15:48, 72.96s/it] /home/joanes/miniconda3/lib/python3.6/site-packages/statsmodels/regression/linear_model.py:846: RuntimeWarning: divide by zero encountered in log\n",
      "/home/joanes/miniconda3/lib/python3.6/site-packages/statsmodels/base/model.py:1100: RuntimeWarning: invalid value encountered in true_divide\n",
      " 43%|████▎     | 9/21 [11:30<10:52, 54.34s/it]/home/joanes/miniconda3/lib/python3.6/site-packages/statsmodels/regression/linear_model.py:846: RuntimeWarning: divide by zero encountered in log\n",
      "/home/joanes/miniconda3/lib/python3.6/site-packages/statsmodels/base/model.py:1100: RuntimeWarning: invalid value encountered in true_divide\n",
      "100%|██████████| 21/21 [22:24<00:00, 64.03s/it] \n",
      "../../time-series-featurizer/ts_featurizer/base/base.py:152: UserWarning: NaN values have been found while Applying the model, check na_cols attribute to know which columns have NaNs.\n"
     ]
    },
    {
     "name": "stdout",
     "output_type": "stream",
     "text": [
      "Stored the featurized files\n"
     ]
    }
   ],
   "source": [
    "for time in range(10,11):\n",
    "    df_list, target_featurized = get_processed_df_list_and_target(raw_files, (time - 1) * 1_000, time * 1_000)\n",
    "    print(f'Loaded DataFrame lists len is {len(df_list)}, from {(time - 1) * 1_000} to {time * 1_000}')\n",
    "    featurized = tseries.featurize(df_list, n_jobs=4, apply_model=True)\n",
    "    featurized.reset_index(drop=True).to_feather(f'tmp/first_fold/featurized_{time}')\n",
    "    target_featurized.reset_index(drop=True).to_feather(f'tmp/first_fold/target_featurized_{time}')\n",
    "    print('Stored the featurized files')\n"
   ]
  },
  {
   "cell_type": "code",
   "execution_count": null,
   "metadata": {
    "ExecuteTime": {
     "end_time": "2019-03-15T09:17:42.447348Z",
     "start_time": "2019-03-15T09:17:42.444489Z"
    }
   },
   "outputs": [],
   "source": [
    "featurized.shape"
   ]
  }
 ],
 "metadata": {
  "kernelspec": {
   "display_name": "Python 3",
   "language": "python",
   "name": "python3"
  },
  "language_info": {
   "codemirror_mode": {
    "name": "ipython",
    "version": 3
   },
   "file_extension": ".py",
   "mimetype": "text/x-python",
   "name": "python",
   "nbconvert_exporter": "python",
   "pygments_lexer": "ipython3",
   "version": "3.6.6"
  },
  "toc": {
   "base_numbering": 1,
   "nav_menu": {},
   "number_sections": true,
   "sideBar": true,
   "skip_h1_title": false,
   "title_cell": "Table of Contents",
   "title_sidebar": "Contents",
   "toc_cell": false,
   "toc_position": {},
   "toc_section_display": true,
   "toc_window_display": false
  },
  "varInspector": {
   "cols": {
    "lenName": 16,
    "lenType": 16,
    "lenVar": 40
   },
   "kernels_config": {
    "python": {
     "delete_cmd_postfix": "",
     "delete_cmd_prefix": "del ",
     "library": "var_list.py",
     "varRefreshCmd": "print(var_dic_list())"
    },
    "r": {
     "delete_cmd_postfix": ") ",
     "delete_cmd_prefix": "rm(",
     "library": "var_list.r",
     "varRefreshCmd": "cat(var_dic_list()) "
    }
   },
   "types_to_exclude": [
    "module",
    "function",
    "builtin_function_or_method",
    "instance",
    "_Feature"
   ],
   "window_display": false
  }
 },
 "nbformat": 4,
 "nbformat_minor": 2
}
